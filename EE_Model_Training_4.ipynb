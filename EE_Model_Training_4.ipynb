{
  "nbformat": 4,
  "nbformat_minor": 0,
  "metadata": {
    "colab": {
      "provenance": []
    },
    "kernelspec": {
      "name": "python3",
      "display_name": "Python 3"
    },
    "language_info": {
      "name": "python"
    }
  },
  "cells": [
    {
      "cell_type": "code",
      "execution_count": 4,
      "metadata": {
        "colab": {
          "base_uri": "https://localhost:8080/"
        },
        "id": "4cGQmoIt3fRl",
        "outputId": "21149828-6064-44e9-bb9d-9f3ac01b7823"
      },
      "outputs": [
        {
          "output_type": "stream",
          "name": "stdout",
          "text": [
            "To authorize access needed by Earth Engine, open the following URL in a web browser and follow the instructions. If the web browser does not start automatically, please manually browse the URL below.\n",
            "\n",
            "    https://code.earthengine.google.com/client-auth?scopes=https%3A//www.googleapis.com/auth/earthengine%20https%3A//www.googleapis.com/auth/devstorage.full_control&request_id=E-CNfh-d-B04aB_RuIhSGjjORNXI7Cq69hmno3P69Tw&tc=VOoZeoPtix3UcWNUD3c87MY1-kDIvFn_wpsu2xUhLtA&cc=nvsgTfJ-MsxmVZce-RI3G9yko9Bg9HmQwBkB0Px3kJA\n",
            "\n",
            "The authorization workflow will generate a code, which you should paste in the box below.\n",
            "Enter verification code: 4/1AVHEtk7DbrOBIvcJQzrEDCQRF2jvWdmU99annN51fyILFbQrYCf2UJj5O8g\n",
            "\n",
            "Successfully saved authorization token.\n",
            "2.11.0\n",
            "0.14.0\n"
          ]
        }
      ],
      "source": [
        "from google.colab import auth\n",
        "auth.authenticate_user()\n",
        "\n",
        "import ee\n",
        "ee.Authenticate()\n",
        "ee.Initialize()\n",
        "\n",
        "import tensorflow as tf\n",
        "from tensorflow import keras\n",
        "print(tf.__version__)\n",
        "\n",
        "import folium\n",
        "print(folium.__version__)\n",
        "\n",
        "\n",
        "import numpy as np\n",
        "from keras.layers import Input, Conv2D, MaxPooling2D, Flatten, Dense, Dropout, UpSampling2D\n",
        "from keras.callbacks import EarlyStopping\n",
        "from keras.models import Model\n",
        "from keras.optimizers import Adam\n",
        "import pandas as pd"
      ]
    },
    {
      "cell_type": "markdown",
      "source": [
        "# Read-in"
      ],
      "metadata": {
        "id": "xtUBy8xx4B4w"
      }
    },
    {
      "cell_type": "code",
      "source": [
        "hansen_dataset = ee.Image('UMD/hansen/global_forest_change_2020_v1_8')"
      ],
      "metadata": {
        "id": "Pi1ngMM7IXV1"
      },
      "execution_count": null,
      "outputs": []
    },
    {
      "cell_type": "code",
      "source": [
        "# Load Global Forest Change dataset\n",
        "forestChange = ee.Image('UMD/hansen/global_forest_change_2020_v1_8')\n",
        "\n",
        "# Define region of interest\n",
        "roi = ee.Geometry.Point([-75.58, 6.41]).buffer(10000)\n",
        "\n",
        "# Extract forest loss and gain pixels as separate binary masks\n",
        "forestLoss = forestChange.select(['gain']).selfMask()\n",
        "forestGain = forestChange.select(['loss']).selfMask()\n",
        "\n",
        "# Add a constant value band to the binary masks\n",
        "constant = ee.Image(1)\n",
        "forestLoss = forestLoss.addBands(constant)\n",
        "forestGain = forestGain.addBands(constant)\n",
        "\n",
        "# Convert forest loss and gain masks to feature collections\n",
        "forestLossFeatures = forestLoss.reduceToVectors(\n",
        "    geometry=roi,\n",
        "    geometryType='polygon',\n",
        "    crs=forestChange.projection(),\n",
        "    scale=30,\n",
        "    eightConnected=True,\n",
        "    labelProperty='class',\n",
        "    reducer=ee.Reducer.count()\n",
        ")\n",
        "\n",
        "forestGainFeatures = forestGain.reduceToVectors(\n",
        "    geometry=roi,\n",
        "    geometryType='polygon',\n",
        "    crs=forestChange.projection(),\n",
        "    scale=30,\n",
        "    eightConnected=True,\n",
        "    labelProperty='class',\n",
        "    reducer=ee.Reducer.count()\n",
        ")\n",
        "\n",
        "# Combine forest loss and gain features into a single feature collection\n",
        "labeledData = forestLossFeatures.merge(forestGainFeatures)\n",
        "\n",
        "# Print the first 10 features of the labeled data\n",
        "print(labeledData.limit(10).getInfo())"
      ],
      "metadata": {
        "id": "o4283TRHoOw_",
        "colab": {
          "base_uri": "https://localhost:8080/"
        },
        "outputId": "96ae046b-f898-430f-aeba-2181aa91aa2d"
      },
      "execution_count": 15,
      "outputs": [
        {
          "output_type": "stream",
          "name": "stdout",
          "text": [
            "{'type': 'FeatureCollection', 'columns': {'class': 'Short<0, 255>', 'count': 'Long<0, 4294967295>', 'system:index': 'String'}, 'features': [{'type': 'Feature', 'geometry': {'geodesic': False, 'type': 'Polygon', 'coordinates': [[[-75.66651879886435, 6.428247725196414], [-75.6662493042791, 6.428247725196414], [-75.6662493042791, 6.428517219781654], [-75.66651879886435, 6.428517219781654], [-75.66651879886435, 6.428247725196414]]]}, 'id': '1_+387145+272998', 'properties': {'class': 1, 'count': 1}}, {'type': 'Feature', 'geometry': {'geodesic': False, 'type': 'Polygon', 'coordinates': [[[-75.66597980969388, 6.428517219781654], [-75.66571031510864, 6.428517219781654], [-75.66571031510864, 6.428786714366893], [-75.66597980969388, 6.428786714366893], [-75.66597980969388, 6.428517219781654]]]}, 'id': '1_+387147+272997', 'properties': {'class': 1, 'count': 1}}, {'type': 'Feature', 'geometry': {'geodesic': False, 'type': 'Polygon', 'coordinates': [[[-75.66301536925629, 6.439297003191086], [-75.66274587467105, 6.439297003191086], [-75.66274587467105, 6.439835992361566], [-75.66301536925629, 6.439835992361566], [-75.66301536925629, 6.439297003191086]]]}, 'id': '1_+387158+272957', 'properties': {'class': 1, 'count': 2}}, {'type': 'Feature', 'geometry': {'geodesic': False, 'type': 'Polygon', 'coordinates': [[[-75.66220688550057, 6.430673176463543], [-75.66193739091534, 6.430673176463543], [-75.66193739091534, 6.430942671048783], [-75.66220688550057, 6.430942671048783], [-75.66220688550057, 6.430673176463543]]]}, 'id': '1_+387161+272989', 'properties': {'class': 1, 'count': 1}}, {'type': 'Feature', 'geometry': {'geodesic': False, 'type': 'Polygon', 'coordinates': [[[-75.66193739091534, 6.439027508605847], [-75.6616678963301, 6.439027508605847], [-75.6616678963301, 6.439297003191086], [-75.66193739091534, 6.439297003191086], [-75.66193739091534, 6.439027508605847]]]}, 'id': '1_+387162+272958', 'properties': {'class': 1, 'count': 1}}, {'type': 'Feature', 'geometry': {'geodesic': False, 'type': 'Polygon', 'coordinates': [[[-75.66112890715964, 6.436871551923971], [-75.66058991798916, 6.436871551923971], [-75.66058991798916, 6.437680035679676], [-75.66112890715964, 6.437680035679676], [-75.66112890715964, 6.436871551923971]]]}, 'id': '1_+387166+272966', 'properties': {'class': 1, 'count': 6}}, {'type': 'Feature', 'geometry': {'geodesic': False, 'type': 'Polygon', 'coordinates': [[[-75.6608594125744, 6.394830396627171], [-75.66058991798916, 6.394830396627171], [-75.66058991798916, 6.39536938579765], [-75.6608594125744, 6.39536938579765], [-75.6608594125744, 6.394830396627171]]]}, 'id': '1_+387166+273122', 'properties': {'class': 1, 'count': 2}}, {'type': 'Feature', 'geometry': {'geodesic': False, 'type': 'Polygon', 'coordinates': [[[-75.65924244506297, 6.399411804576189], [-75.65897295047775, 6.399411804576189], [-75.65897295047775, 6.399681299161415], [-75.65924244506297, 6.399681299161415], [-75.65924244506297, 6.399411804576189]]]}, 'id': '1_+387172+273105', 'properties': {'class': 1, 'count': 1}}, {'type': 'Feature', 'geometry': {'geodesic': False, 'type': 'Polygon', 'coordinates': [[[-75.6587034558925, 6.39860332082047], [-75.65843396130727, 6.39860332082047], [-75.65843396130727, 6.39887281540571], [-75.6587034558925, 6.39887281540571], [-75.6587034558925, 6.39860332082047]]]}, 'id': '1_+387174+273108', 'properties': {'class': 1, 'count': 1}}, {'type': 'Feature', 'geometry': {'geodesic': False, 'type': 'Polygon', 'coordinates': [[[-75.65843396130727, 6.437141046509197], [-75.65816446672204, 6.437141046509197], [-75.65816446672204, 6.437680035679676], [-75.65843396130727, 6.437680035679676], [-75.65843396130727, 6.437141046509197]]]}, 'id': '1_+387175+272965', 'properties': {'class': 1, 'count': 2}}]}\n"
          ]
        }
      ]
    },
    {
      "cell_type": "code",
      "source": [
        "labeledData"
      ],
      "metadata": {
        "colab": {
          "base_uri": "https://localhost:8080/"
        },
        "id": "J2DzDugi-kgH",
        "outputId": "e493cc71-9c93-468c-da2b-09298d276403"
      },
      "execution_count": 16,
      "outputs": [
        {
          "output_type": "execute_result",
          "data": {
            "text/plain": [
              "<ee.featurecollection.FeatureCollection at 0x7fcdf2d539a0>"
            ]
          },
          "metadata": {},
          "execution_count": 16
        }
      ]
    },
    {
      "cell_type": "code",
      "source": [
        "import pandas as pd\n",
        "import time\n",
        "from google.colab import auth\n",
        "from pydrive.auth import GoogleAuth\n",
        "from pydrive.drive import GoogleDrive\n",
        "from oauth2client.client import GoogleCredentials\n",
        "\n",
        "auth.authenticate_user()\n",
        "gauth = GoogleAuth()\n",
        "gauth.credentials = GoogleCredentials.get_application_default()\n",
        "drive = GoogleDrive(gauth)\n",
        "\n",
        "\n",
        "# Combine forest loss and gain features into a single feature collection\n",
        "labeledData = forestLossFeatures.merge(forestGainFeatures)\n",
        "\n",
        "# Export the labeled data to a CSV file in Google Drive\n",
        "task = ee.batch.Export.table.toDrive(\n",
        "    collection=labeledData,\n",
        "    description='labeledData',\n",
        "    folder='GEE_exports',\n",
        "    fileFormat='CSV'\n",
        ")\n",
        "task.start()\n",
        "\n",
        "# Wait for the export task to complete\n",
        "while task.status()['state'] == 'RUNNING':\n",
        "    print('Exporting labeledData...')\n",
        "    time.sleep(5)\n",
        "print('Export completed.')\n",
        "\n",
        "# Download the exported CSV file from Google Drive\n",
        "file_list = drive.ListFile({'q': \"'GEE_exports' in parents and trashed=false\"}).GetList()\n",
        "file_name = 'labeledData.csv'\n",
        "for file1 in file_list:\n",
        "    if file1['title'] == file_name:\n",
        "        file_id = file1['id']\n",
        "        file = drive.CreateFile({'id': file_id})\n",
        "        file.GetContentFile(file_name)\n",
        "        break\n",
        "\n",
        "# Load the CSV file into a Pandas dataframe\n",
        "dataframe = pd.read_csv('labeledData.csv')\n"
      ],
      "metadata": {
        "colab": {
          "base_uri": "https://localhost:8080/",
          "height": 461
        },
        "id": "qri_yXlZz0mz",
        "outputId": "2f7a621f-23f8-4528-8a34-e25f9dd407c6"
      },
      "execution_count": 24,
      "outputs": [
        {
          "output_type": "stream",
          "name": "stdout",
          "text": [
            "Export completed.\n"
          ]
        },
        {
          "output_type": "error",
          "ename": "HttpError",
          "evalue": "ignored",
          "traceback": [
            "\u001b[0;31m---------------------------------------------------------------------------\u001b[0m",
            "\u001b[0;31mHttpError\u001b[0m                                 Traceback (most recent call last)",
            "\u001b[0;32m<ipython-input-24-88a011ee7f40>\u001b[0m in \u001b[0;36m<module>\u001b[0;34m\u001b[0m\n\u001b[1;32m     31\u001b[0m \u001b[0;34m\u001b[0m\u001b[0m\n\u001b[1;32m     32\u001b[0m \u001b[0;31m# Download the exported CSV file from Google Drive\u001b[0m\u001b[0;34m\u001b[0m\u001b[0;34m\u001b[0m\u001b[0m\n\u001b[0;32m---> 33\u001b[0;31m \u001b[0mfile_list\u001b[0m \u001b[0;34m=\u001b[0m \u001b[0mdrive\u001b[0m\u001b[0;34m.\u001b[0m\u001b[0mListFile\u001b[0m\u001b[0;34m(\u001b[0m\u001b[0;34m{\u001b[0m\u001b[0;34m'q'\u001b[0m\u001b[0;34m:\u001b[0m \u001b[0;34m\"'GEE_exports' in parents and trashed=false\"\u001b[0m\u001b[0;34m}\u001b[0m\u001b[0;34m)\u001b[0m\u001b[0;34m.\u001b[0m\u001b[0mGetList\u001b[0m\u001b[0;34m(\u001b[0m\u001b[0;34m)\u001b[0m\u001b[0;34m\u001b[0m\u001b[0;34m\u001b[0m\u001b[0m\n\u001b[0m\u001b[1;32m     34\u001b[0m \u001b[0mfile_name\u001b[0m \u001b[0;34m=\u001b[0m \u001b[0;34m'labeledData.csv'\u001b[0m\u001b[0;34m\u001b[0m\u001b[0;34m\u001b[0m\u001b[0m\n\u001b[1;32m     35\u001b[0m \u001b[0;32mfor\u001b[0m \u001b[0mfile1\u001b[0m \u001b[0;32min\u001b[0m \u001b[0mfile_list\u001b[0m\u001b[0;34m:\u001b[0m\u001b[0;34m\u001b[0m\u001b[0;34m\u001b[0m\u001b[0m\n",
            "\u001b[0;32m/usr/local/lib/python3.9/dist-packages/pydrive/apiattr.py\u001b[0m in \u001b[0;36mGetList\u001b[0;34m(self)\u001b[0m\n\u001b[1;32m    160\u001b[0m       \u001b[0mself\u001b[0m\u001b[0;34m[\u001b[0m\u001b[0;34m'maxResults'\u001b[0m\u001b[0;34m]\u001b[0m \u001b[0;34m=\u001b[0m \u001b[0;36m1000\u001b[0m\u001b[0;34m\u001b[0m\u001b[0;34m\u001b[0m\u001b[0m\n\u001b[1;32m    161\u001b[0m       \u001b[0mresult\u001b[0m \u001b[0;34m=\u001b[0m \u001b[0;34m[\u001b[0m\u001b[0;34m]\u001b[0m\u001b[0;34m\u001b[0m\u001b[0;34m\u001b[0m\u001b[0m\n\u001b[0;32m--> 162\u001b[0;31m       \u001b[0;32mfor\u001b[0m \u001b[0mx\u001b[0m \u001b[0;32min\u001b[0m \u001b[0mself\u001b[0m\u001b[0;34m:\u001b[0m\u001b[0;34m\u001b[0m\u001b[0;34m\u001b[0m\u001b[0m\n\u001b[0m\u001b[1;32m    163\u001b[0m         \u001b[0mresult\u001b[0m\u001b[0;34m.\u001b[0m\u001b[0mextend\u001b[0m\u001b[0;34m(\u001b[0m\u001b[0mx\u001b[0m\u001b[0;34m)\u001b[0m\u001b[0;34m\u001b[0m\u001b[0;34m\u001b[0m\u001b[0m\n\u001b[1;32m    164\u001b[0m       \u001b[0;32mdel\u001b[0m \u001b[0mself\u001b[0m\u001b[0;34m[\u001b[0m\u001b[0;34m'maxResults'\u001b[0m\u001b[0;34m]\u001b[0m\u001b[0;34m\u001b[0m\u001b[0;34m\u001b[0m\u001b[0m\n",
            "\u001b[0;32m/usr/local/lib/python3.9/dist-packages/pydrive/apiattr.py\u001b[0m in \u001b[0;36m__next__\u001b[0;34m(self)\u001b[0m\n\u001b[1;32m    144\u001b[0m     \u001b[0;32mif\u001b[0m \u001b[0;34m'pageToken'\u001b[0m \u001b[0;32min\u001b[0m \u001b[0mself\u001b[0m \u001b[0;32mand\u001b[0m \u001b[0mself\u001b[0m\u001b[0;34m[\u001b[0m\u001b[0;34m'pageToken'\u001b[0m\u001b[0;34m]\u001b[0m \u001b[0;32mis\u001b[0m \u001b[0;32mNone\u001b[0m\u001b[0;34m:\u001b[0m\u001b[0;34m\u001b[0m\u001b[0;34m\u001b[0m\u001b[0m\n\u001b[1;32m    145\u001b[0m       \u001b[0;32mraise\u001b[0m \u001b[0mStopIteration\u001b[0m\u001b[0;34m\u001b[0m\u001b[0;34m\u001b[0m\u001b[0m\n\u001b[0;32m--> 146\u001b[0;31m     \u001b[0mresult\u001b[0m \u001b[0;34m=\u001b[0m \u001b[0mself\u001b[0m\u001b[0;34m.\u001b[0m\u001b[0m_GetList\u001b[0m\u001b[0;34m(\u001b[0m\u001b[0;34m)\u001b[0m\u001b[0;34m\u001b[0m\u001b[0;34m\u001b[0m\u001b[0m\n\u001b[0m\u001b[1;32m    147\u001b[0m     \u001b[0mself\u001b[0m\u001b[0;34m[\u001b[0m\u001b[0;34m'pageToken'\u001b[0m\u001b[0;34m]\u001b[0m \u001b[0;34m=\u001b[0m \u001b[0mself\u001b[0m\u001b[0;34m.\u001b[0m\u001b[0mmetadata\u001b[0m\u001b[0;34m.\u001b[0m\u001b[0mget\u001b[0m\u001b[0;34m(\u001b[0m\u001b[0;34m'nextPageToken'\u001b[0m\u001b[0;34m)\u001b[0m\u001b[0;34m\u001b[0m\u001b[0;34m\u001b[0m\u001b[0m\n\u001b[1;32m    148\u001b[0m     \u001b[0;32mreturn\u001b[0m \u001b[0mresult\u001b[0m\u001b[0;34m\u001b[0m\u001b[0;34m\u001b[0m\u001b[0m\n",
            "\u001b[0;32m/usr/local/lib/python3.9/dist-packages/pydrive/auth.py\u001b[0m in \u001b[0;36m_decorated\u001b[0;34m(self, *args, **kwargs)\u001b[0m\n\u001b[1;32m     73\u001b[0m       \u001b[0mself\u001b[0m\u001b[0;34m.\u001b[0m\u001b[0mhttp\u001b[0m \u001b[0;34m=\u001b[0m \u001b[0mself\u001b[0m\u001b[0;34m.\u001b[0m\u001b[0mauth\u001b[0m\u001b[0;34m.\u001b[0m\u001b[0mGet_Http_Object\u001b[0m\u001b[0;34m(\u001b[0m\u001b[0;34m)\u001b[0m\u001b[0;34m\u001b[0m\u001b[0;34m\u001b[0m\u001b[0m\n\u001b[1;32m     74\u001b[0m \u001b[0;34m\u001b[0m\u001b[0m\n\u001b[0;32m---> 75\u001b[0;31m     \u001b[0;32mreturn\u001b[0m \u001b[0mdecoratee\u001b[0m\u001b[0;34m(\u001b[0m\u001b[0mself\u001b[0m\u001b[0;34m,\u001b[0m \u001b[0;34m*\u001b[0m\u001b[0margs\u001b[0m\u001b[0;34m,\u001b[0m \u001b[0;34m**\u001b[0m\u001b[0mkwargs\u001b[0m\u001b[0;34m)\u001b[0m\u001b[0;34m\u001b[0m\u001b[0;34m\u001b[0m\u001b[0m\n\u001b[0m\u001b[1;32m     76\u001b[0m   \u001b[0;32mreturn\u001b[0m \u001b[0m_decorated\u001b[0m\u001b[0;34m\u001b[0m\u001b[0;34m\u001b[0m\u001b[0m\n\u001b[1;32m     77\u001b[0m \u001b[0;34m\u001b[0m\u001b[0m\n",
            "\u001b[0;32m/usr/local/lib/python3.9/dist-packages/pydrive/files.py\u001b[0m in \u001b[0;36m_GetList\u001b[0;34m(self)\u001b[0m\n\u001b[1;32m     61\u001b[0m     \u001b[0;34m:\u001b[0m\u001b[0mreturns\u001b[0m\u001b[0;34m:\u001b[0m \u001b[0mlist\u001b[0m \u001b[0;34m-\u001b[0m\u001b[0;34m-\u001b[0m \u001b[0mlist\u001b[0m \u001b[0mof\u001b[0m \u001b[0mpydrive\u001b[0m\u001b[0;34m.\u001b[0m\u001b[0mfiles\u001b[0m\u001b[0;34m.\u001b[0m\u001b[0mGoogleDriveFile\u001b[0m\u001b[0;34m.\u001b[0m\u001b[0;34m\u001b[0m\u001b[0;34m\u001b[0m\u001b[0m\n\u001b[1;32m     62\u001b[0m     \"\"\"\n\u001b[0;32m---> 63\u001b[0;31m     self.metadata = self.auth.service.files().list(**dict(self)).execute(\n\u001b[0m\u001b[1;32m     64\u001b[0m       http=self.http)\n\u001b[1;32m     65\u001b[0m     \u001b[0mresult\u001b[0m \u001b[0;34m=\u001b[0m \u001b[0;34m[\u001b[0m\u001b[0;34m]\u001b[0m\u001b[0;34m\u001b[0m\u001b[0;34m\u001b[0m\u001b[0m\n",
            "\u001b[0;32m/usr/local/lib/python3.9/dist-packages/googleapiclient/_helpers.py\u001b[0m in \u001b[0;36mpositional_wrapper\u001b[0;34m(*args, **kwargs)\u001b[0m\n\u001b[1;32m    128\u001b[0m                 \u001b[0;32melif\u001b[0m \u001b[0mpositional_parameters_enforcement\u001b[0m \u001b[0;34m==\u001b[0m \u001b[0mPOSITIONAL_WARNING\u001b[0m\u001b[0;34m:\u001b[0m\u001b[0;34m\u001b[0m\u001b[0;34m\u001b[0m\u001b[0m\n\u001b[1;32m    129\u001b[0m                     \u001b[0mlogger\u001b[0m\u001b[0;34m.\u001b[0m\u001b[0mwarning\u001b[0m\u001b[0;34m(\u001b[0m\u001b[0mmessage\u001b[0m\u001b[0;34m)\u001b[0m\u001b[0;34m\u001b[0m\u001b[0;34m\u001b[0m\u001b[0m\n\u001b[0;32m--> 130\u001b[0;31m             \u001b[0;32mreturn\u001b[0m \u001b[0mwrapped\u001b[0m\u001b[0;34m(\u001b[0m\u001b[0;34m*\u001b[0m\u001b[0margs\u001b[0m\u001b[0;34m,\u001b[0m \u001b[0;34m**\u001b[0m\u001b[0mkwargs\u001b[0m\u001b[0;34m)\u001b[0m\u001b[0;34m\u001b[0m\u001b[0;34m\u001b[0m\u001b[0m\n\u001b[0m\u001b[1;32m    131\u001b[0m \u001b[0;34m\u001b[0m\u001b[0m\n\u001b[1;32m    132\u001b[0m         \u001b[0;32mreturn\u001b[0m \u001b[0mpositional_wrapper\u001b[0m\u001b[0;34m\u001b[0m\u001b[0;34m\u001b[0m\u001b[0m\n",
            "\u001b[0;32m/usr/local/lib/python3.9/dist-packages/googleapiclient/http.py\u001b[0m in \u001b[0;36mexecute\u001b[0;34m(self, http, num_retries)\u001b[0m\n\u001b[1;32m    936\u001b[0m             \u001b[0mcallback\u001b[0m\u001b[0;34m(\u001b[0m\u001b[0mresp\u001b[0m\u001b[0;34m)\u001b[0m\u001b[0;34m\u001b[0m\u001b[0;34m\u001b[0m\u001b[0m\n\u001b[1;32m    937\u001b[0m         \u001b[0;32mif\u001b[0m \u001b[0mresp\u001b[0m\u001b[0;34m.\u001b[0m\u001b[0mstatus\u001b[0m \u001b[0;34m>=\u001b[0m \u001b[0;36m300\u001b[0m\u001b[0;34m:\u001b[0m\u001b[0;34m\u001b[0m\u001b[0;34m\u001b[0m\u001b[0m\n\u001b[0;32m--> 938\u001b[0;31m             \u001b[0;32mraise\u001b[0m \u001b[0mHttpError\u001b[0m\u001b[0;34m(\u001b[0m\u001b[0mresp\u001b[0m\u001b[0;34m,\u001b[0m \u001b[0mcontent\u001b[0m\u001b[0;34m,\u001b[0m \u001b[0muri\u001b[0m\u001b[0;34m=\u001b[0m\u001b[0mself\u001b[0m\u001b[0;34m.\u001b[0m\u001b[0muri\u001b[0m\u001b[0;34m)\u001b[0m\u001b[0;34m\u001b[0m\u001b[0;34m\u001b[0m\u001b[0m\n\u001b[0m\u001b[1;32m    939\u001b[0m         \u001b[0;32mreturn\u001b[0m \u001b[0mself\u001b[0m\u001b[0;34m.\u001b[0m\u001b[0mpostproc\u001b[0m\u001b[0;34m(\u001b[0m\u001b[0mresp\u001b[0m\u001b[0;34m,\u001b[0m \u001b[0mcontent\u001b[0m\u001b[0;34m)\u001b[0m\u001b[0;34m\u001b[0m\u001b[0;34m\u001b[0m\u001b[0m\n\u001b[1;32m    940\u001b[0m \u001b[0;34m\u001b[0m\u001b[0m\n",
            "\u001b[0;31mHttpError\u001b[0m: <HttpError 404 when requesting https://www.googleapis.com/drive/v2/files?q=%27GEE_exports%27+in+parents+and+trashed%3Dfalse&maxResults=1000&alt=json returned \"File not found:\". Details: \"[{'message': 'File not found: ', 'domain': 'global', 'reason': 'notFound', 'location': 'file', 'locationType': 'other'}]\">"
          ]
        }
      ]
    }
  ]
}